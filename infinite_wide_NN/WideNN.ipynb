{
 "cells": [
  {
   "cell_type": "code",
   "execution_count": 1,
   "metadata": {
    "colab": {},
    "colab_type": "code",
    "id": "hJXL7fwZEDiN"
   },
   "outputs": [],
   "source": [
    "import numpy as np\n",
    "import scipy\n",
    "import scipy.stats as stats\n",
    "import math\n",
    "import matplotlib.pyplot as plt\n",
    "import torch\n",
    "import torch.nn as nn\n",
    "import torch.nn.functional as F"
   ]
  },
  {
   "cell_type": "code",
   "execution_count": 2,
   "metadata": {
    "colab": {},
    "colab_type": "code",
    "id": "iru38kHeAnqU"
   },
   "outputs": [],
   "source": [
    "from sklearn.datasets import load_boston\n",
    "from sklearn.preprocessing import MinMaxScaler\n",
    "from sklearn.model_selection import train_test_split\n",
    "\n",
    "X, Y = load_boston(return_X_y=True)\n",
    "X = MinMaxScaler(feature_range=(-1, 1)).fit_transform(X)\n",
    "n_train, k = int(X.shape[0] * 2 / 3), X.shape[1]\n",
    "n_test = X.shape[0] - n_train"
   ]
  },
  {
   "cell_type": "code",
   "execution_count": 3,
   "metadata": {
    "colab": {},
    "colab_type": "code",
    "id": "hv3iZ_lSj57Q"
   },
   "outputs": [],
   "source": [
    "X_train, X_test, Y_train, Y_test = train_test_split(X, Y, train_size=n_train)\n",
    "\n",
    "X_train = torch.DoubleTensor(X_train)\n",
    "Y_train = torch.DoubleTensor(Y_train).view(-1, n_train).T\n",
    "X_test = torch.DoubleTensor(X_test)\n",
    "Y_test = torch.DoubleTensor(Y_test).view(-1, n_test).T"
   ]
  },
  {
   "cell_type": "code",
   "execution_count": 4,
   "metadata": {
    "colab": {
     "base_uri": "https://localhost:8080/",
     "height": 151
    },
    "colab_type": "code",
    "executionInfo": {
     "elapsed": 4308,
     "status": "ok",
     "timestamp": 1577142828198,
     "user": {
      "displayName": "Katya Kos",
      "photoUrl": "https://lh3.googleusercontent.com/a-/AAuE7mAEbDPlTEhfxpe_Le-e1fhcSaCH4uzJ2QfB31HgZQ=s64",
      "userId": "02875698777289388707"
     },
     "user_tz": -180
    },
    "id": "bBRFgIa2AvQf",
    "outputId": "b8e1adef-4017-488d-f038-abbaf0956697"
   },
   "outputs": [
    {
     "name": "stdout",
     "output_type": "stream",
     "text": [
      "torch.Size([337, 13])\n",
      "tensor([[-0.4170, -1.0000,  0.2933, -1.0000,  0.2099, -0.3321,  0.7755, -0.9058,\n",
      "          1.0000,  0.8282,  0.6170, -0.3593,  0.3747],\n",
      "        [-0.8977, -1.0000,  0.2933, -1.0000,  0.3704, -1.0000,  0.7508, -0.9120,\n",
      "          1.0000,  0.8282,  0.6170,  0.7872, -0.7025]], dtype=torch.float64)\n",
      "torch.Size([337, 1])\n",
      "tensor([[10.4000],\n",
      "        [27.5000]], dtype=torch.float64)\n"
     ]
    }
   ],
   "source": [
    "print(X_train.shape)\n",
    "print(X_train[:2])\n",
    "print(Y_train.shape)\n",
    "print(Y_train[:2])"
   ]
  },
  {
   "cell_type": "markdown",
   "metadata": {
    "colab_type": "text",
    "id": "KHS-uac2Bp0q"
   },
   "source": [
    "# Models"
   ]
  },
  {
   "cell_type": "code",
   "execution_count": 5,
   "metadata": {
    "colab": {},
    "colab_type": "code",
    "id": "Vr0kN5UEBwxq"
   },
   "outputs": [],
   "source": [
    "def init(module):\n",
    "    if type(module) == nn.Linear:\n",
    "        module.weight.data.normal_(0, 1)\n",
    "        module.weight.data *= 1. / np.sqrt(module.weight.size(1))\n",
    "        if module.bias is not None:\n",
    "            module.bias.data.normal_(0, 1)\n",
    "            module.bias.data *= 0.00001"
   ]
  },
  {
   "cell_type": "code",
   "execution_count": 6,
   "metadata": {
    "colab": {},
    "colab_type": "code",
    "id": "3cf-IzAMBl0a"
   },
   "outputs": [],
   "source": [
    "class SimpleRegression(nn.Module):\n",
    "    def __init__(self, d):\n",
    "        super().__init__()\n",
    "        self.fc1 = nn.Linear(d, 120).to(dtype=torch.float64)\n",
    "        self.fc2 = nn.Linear(120, 84).to(dtype=torch.float64)\n",
    "        self.fc3 = nn.Linear(84, 1).to(dtype=torch.float64)\n",
    "    \n",
    "    def forward(self, x):\n",
    "        y = F.relu(self.fc1(x))\n",
    "        y = F.relu(self.fc2(y))\n",
    "        y = self.fc3(y)\n",
    "        return y\n",
    "\n",
    "    def nparams(self):\n",
    "        n = 0\n",
    "        for p in self.parameters():\n",
    "            n += p.nelement()\n",
    "        return n\n",
    "        "
   ]
  },
  {
   "cell_type": "markdown",
   "metadata": {
    "colab_type": "text",
    "id": "PL44pxOVD_uo"
   },
   "source": [
    "# WideNN"
   ]
  },
  {
   "cell_type": "code",
   "execution_count": 7,
   "metadata": {
    "colab": {},
    "colab_type": "code",
    "id": "BoreKcd6EElf"
   },
   "outputs": [],
   "source": [
    "class WideNN:\n",
    "    def __init__(self, model, X, Y):\n",
    "        self.f_0 = model\n",
    "        self.X = X\n",
    "        self.Y = Y\n",
    "        self.n = X.shape[0]\n",
    "        self.k = X.shape[1]\n",
    "        self.nparams = model.nparams()\n",
    "\n",
    "        self.grad_0 = self.get_gradient(X) # df_0(X)/dtheta\n",
    "        self.kernel_0 = torch.mm(self.grad_0, self.grad_0.T)\n",
    "    \n",
    "    def linearize(self, t, nu):\n",
    "        nuThetat = -nu * self.kernel_0 * t\n",
    "        exp_kernel_0 = torch.DoubleTensor(scipy.linalg.expm((nuThetat).numpy())) # e^(-nu * kernel_0 * t)\n",
    "        kernel_0_inv = torch.DoubleTensor(np.linalg.inv(self.kernel_0.numpy())) # kernel_0^(-1)\n",
    "        f_0_X = self.f_0(self.X) # f0(X)\n",
    "\n",
    "        mu_partial = torch.mm(kernel_0_inv, (torch.eye(self.n) - exp_kernel_0))\n",
    "        gamma_partial = torch.mm(mu_partial, f_0_X)\n",
    "        mu_partial = torch.mm(mu_partial, self.Y)\n",
    "\n",
    "        def f(x):\n",
    "            kernel = torch.mm(self.get_gradient(x), self.grad_0.T)\n",
    "            mu = torch.mm(kernel, mu_partial)\n",
    "            gamma = self.f_0(x) - torch.mm(kernel, gamma_partial)\n",
    "            return mu + gamma\n",
    "        return f\n",
    "    \n",
    "    def nu_critical(self):\n",
    "        eigens = torch.eig(self.kernel_0)[0].view(-1)[::2]\n",
    "        return 2. * (torch.min(eigens) + torch.max(eigens)).numpy() ** -1\n",
    "\n",
    "    def get_gradient(self, data):\n",
    "        grad = torch.DoubleTensor(np.zeros((data.shape[0], self.nparams)))\n",
    "        for i in range(data.shape[0]):\n",
    "            self.f_0.zero_grad()\n",
    "            pred = self.f_0(data[i])\n",
    "            pred.backward()\n",
    "            grads = [p.grad.view(-1) for p in self.f_0.parameters()]\n",
    "            grad[i, :] = torch.cat(grads).view(-1)\n",
    "        return grad\n",
    "        \n"
   ]
  },
  {
   "cell_type": "code",
   "execution_count": 8,
   "metadata": {
    "colab": {
     "base_uri": "https://localhost:8080/",
     "height": 101
    },
    "colab_type": "code",
    "executionInfo": {
     "elapsed": 1089,
     "status": "ok",
     "timestamp": 1577144617383,
     "user": {
      "displayName": "Katya Kos",
      "photoUrl": "https://lh3.googleusercontent.com/a-/AAuE7mAEbDPlTEhfxpe_Le-e1fhcSaCH4uzJ2QfB31HgZQ=s64",
      "userId": "02875698777289388707"
     },
     "user_tz": -180
    },
    "id": "6M9rrBY4Kn6K",
    "outputId": "4c936bc8-004d-429b-a0cd-67f362fa62d2"
   },
   "outputs": [
    {
     "data": {
      "text/plain": [
       "SimpleRegression(\n",
       "  (fc1): Linear(in_features=13, out_features=120, bias=True)\n",
       "  (fc2): Linear(in_features=120, out_features=84, bias=True)\n",
       "  (fc3): Linear(in_features=84, out_features=1, bias=True)\n",
       ")"
      ]
     },
     "execution_count": 8,
     "metadata": {},
     "output_type": "execute_result"
    }
   ],
   "source": [
    "reg1 = SimpleRegression(k)\n",
    "reg1.apply(init)"
   ]
  },
  {
   "cell_type": "code",
   "execution_count": 9,
   "metadata": {
    "colab": {},
    "colab_type": "code",
    "id": "i1Q5TIWdOQNJ"
   },
   "outputs": [],
   "source": [
    "wideNN = WideNN(reg1, X_train, Y_train)"
   ]
  },
  {
   "cell_type": "code",
   "execution_count": 11,
   "metadata": {
    "colab": {
     "base_uri": "https://localhost:8080/",
     "height": 34
    },
    "colab_type": "code",
    "executionInfo": {
     "elapsed": 1176,
     "status": "ok",
     "timestamp": 1577144632028,
     "user": {
      "displayName": "Katya Kos",
      "photoUrl": "https://lh3.googleusercontent.com/a-/AAuE7mAEbDPlTEhfxpe_Le-e1fhcSaCH4uzJ2QfB31HgZQ=s64",
      "userId": "02875698777289388707"
     },
     "user_tz": -180
    },
    "id": "HvS45D6MDKaC",
    "outputId": "b6a76727-6b71-460d-876f-890342c5ece2"
   },
   "outputs": [
    {
     "name": "stdout",
     "output_type": "stream",
     "text": [
      "0.00039580751771586505\n"
     ]
    }
   ],
   "source": [
    "nu_critical = wideNN.nu_critical()\n",
    "print(nu_critical)"
   ]
  },
  {
   "cell_type": "code",
   "execution_count": 12,
   "metadata": {
    "colab": {},
    "colab_type": "code",
    "id": "QcAxB4vdMT8v"
   },
   "outputs": [],
   "source": [
    "nu = 1.\n",
    "t = 1.\n",
    "f_lin = wideNN.linearize(t, nu)"
   ]
  },
  {
   "cell_type": "code",
   "execution_count": 13,
   "metadata": {
    "colab": {},
    "colab_type": "code",
    "id": "gQ5VbPyGZ7KN"
   },
   "outputs": [],
   "source": [
    "def r2(pred_y, y):\n",
    "    s1 = 0.\n",
    "    s2 = 0.\n",
    "    mean = torch.mean(y)\n",
    "    for i in range(y.shape[0]):\n",
    "        s1 += (pred_y[i] - y[i]) ** 2\n",
    "        s2 += (y[i] - mean) ** 2\n",
    "    return 1. - s1 / s2"
   ]
  },
  {
   "cell_type": "code",
   "execution_count": 14,
   "metadata": {
    "colab": {
     "base_uri": "https://localhost:8080/",
     "height": 50
    },
    "colab_type": "code",
    "executionInfo": {
     "elapsed": 9706,
     "status": "ok",
     "timestamp": 1577144671803,
     "user": {
      "displayName": "Katya Kos",
      "photoUrl": "https://lh3.googleusercontent.com/a-/AAuE7mAEbDPlTEhfxpe_Le-e1fhcSaCH4uzJ2QfB31HgZQ=s64",
      "userId": "02875698777289388707"
     },
     "user_tz": -180
    },
    "id": "2pPGpwSpbUul",
    "outputId": "a97ba21b-95e9-4a34-d2b6-0d8b87eb2807"
   },
   "outputs": [
    {
     "name": "stdout",
     "output_type": "stream",
     "text": [
      "Train\n",
      "r2 0.9465517809511681\n"
     ]
    }
   ],
   "source": [
    "pred_Y_train = f_lin(X_train)\n",
    "print(\"Train\")\n",
    "print(\"r2\", r2(pred_Y_train, Y_train).detach().numpy()[0])"
   ]
  },
  {
   "cell_type": "code",
   "execution_count": 15,
   "metadata": {
    "colab": {
     "base_uri": "https://localhost:8080/",
     "height": 50
    },
    "colab_type": "code",
    "executionInfo": {
     "elapsed": 5708,
     "status": "ok",
     "timestamp": 1577144678109,
     "user": {
      "displayName": "Katya Kos",
      "photoUrl": "https://lh3.googleusercontent.com/a-/AAuE7mAEbDPlTEhfxpe_Le-e1fhcSaCH4uzJ2QfB31HgZQ=s64",
      "userId": "02875698777289388707"
     },
     "user_tz": -180
    },
    "id": "Pd-9F6GPMamO",
    "outputId": "e0354fe3-c801-49f4-9c68-5a8037bc6083"
   },
   "outputs": [
    {
     "name": "stdout",
     "output_type": "stream",
     "text": [
      "Test\n",
      "r2 0.8440471765767307\n"
     ]
    }
   ],
   "source": [
    "pred_Y_test = f_lin(X_test)\n",
    "print(\"Test\")\n",
    "print(\"r2\", r2(pred_Y_test, Y_test).detach().numpy()[0])"
   ]
  },
  {
   "cell_type": "markdown",
   "metadata": {
    "colab_type": "text",
    "id": "3bMOkX4JpK-V"
   },
   "source": [
    "# SGD"
   ]
  },
  {
   "cell_type": "code",
   "execution_count": 16,
   "metadata": {
    "colab": {
     "base_uri": "https://localhost:8080/",
     "height": 185
    },
    "colab_type": "code",
    "executionInfo": {
     "elapsed": 29339,
     "status": "ok",
     "timestamp": 1577142853285,
     "user": {
      "displayName": "Katya Kos",
      "photoUrl": "https://lh3.googleusercontent.com/a-/AAuE7mAEbDPlTEhfxpe_Le-e1fhcSaCH4uzJ2QfB31HgZQ=s64",
      "userId": "02875698777289388707"
     },
     "user_tz": -180
    },
    "id": "oA9SmgOkpMUL",
    "outputId": "7693d443-755a-4521-da3e-01376f8e8c87"
   },
   "outputs": [
    {
     "name": "stdout",
     "output_type": "stream",
     "text": [
      "Step 0 \tr2 -6.64848903177599\n",
      "Step 100 \tr2 0.17817834470008054\n",
      "Step 200 \tr2 0.40056396844043607\n",
      "Step 300 \tr2 0.5226518154870351\n",
      "Step 400 \tr2 0.6051399850870088\n",
      "Step 500 \tr2 0.6599199934299809\n",
      "Step 600 \tr2 0.6953469842502269\n",
      "Step 700 \tr2 0.7184822864455804\n",
      "Step 800 \tr2 0.7344633227374477\n",
      "Step 900 \tr2 0.7464076037571982\n"
     ]
    }
   ],
   "source": [
    "import torch.optim as optim\n",
    "\n",
    "reg2 = SimpleRegression(k)\n",
    "reg2.apply(init)\n",
    "optimizer = optim.SGD(reg2.parameters(), lr=0.01)\n",
    "\n",
    "# Inside the training loop\n",
    "for t in range(1000):\n",
    "    output = reg2(X_train)\n",
    "    loss = -r2(output, Y_train)\n",
    "    optimizer.zero_grad()\n",
    "    loss.backward()\n",
    "    optimizer.step()\n",
    "    if t % 100 == 0:\n",
    "        print(\"Step\", t, \"\\tr2\", -loss.detach().numpy()[0])\n"
   ]
  },
  {
   "cell_type": "code",
   "execution_count": 17,
   "metadata": {
    "colab": {
     "base_uri": "https://localhost:8080/",
     "height": 50
    },
    "colab_type": "code",
    "executionInfo": {
     "elapsed": 29332,
     "status": "ok",
     "timestamp": 1577142853286,
     "user": {
      "displayName": "Katya Kos",
      "photoUrl": "https://lh3.googleusercontent.com/a-/AAuE7mAEbDPlTEhfxpe_Le-e1fhcSaCH4uzJ2QfB31HgZQ=s64",
      "userId": "02875698777289388707"
     },
     "user_tz": -180
    },
    "id": "HoafbPs9q5rz",
    "outputId": "9733d144-2bc7-4204-b338-bf74ba418d61"
   },
   "outputs": [
    {
     "name": "stdout",
     "output_type": "stream",
     "text": [
      "Test\n",
      "r2 0.7181211150081149\n"
     ]
    }
   ],
   "source": [
    "print(\"Test\")\n",
    "print(\"r2\", r2(reg2(X_test), Y_test).detach().numpy()[0])"
   ]
  },
  {
   "cell_type": "code",
   "execution_count": null,
   "metadata": {},
   "outputs": [],
   "source": []
  }
 ],
 "metadata": {
  "colab": {
   "collapsed_sections": [],
   "name": "WideNN.ipynb",
   "provenance": []
  },
  "kernelspec": {
   "display_name": "Python 3",
   "language": "python",
   "name": "python3"
  },
  "language_info": {
   "codemirror_mode": {
    "name": "ipython",
    "version": 3
   },
   "file_extension": ".py",
   "mimetype": "text/x-python",
   "name": "python",
   "nbconvert_exporter": "python",
   "pygments_lexer": "ipython3",
   "version": "3.7.4"
  }
 },
 "nbformat": 4,
 "nbformat_minor": 1
}
