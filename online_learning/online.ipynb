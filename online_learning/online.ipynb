{
 "cells": [
  {
   "cell_type": "code",
   "execution_count": 1,
   "metadata": {
    "colab": {},
    "colab_type": "code",
    "id": "hJXL7fwZEDiN"
   },
   "outputs": [],
   "source": [
    "import numpy as np\n",
    "import scipy.stats as stats\n",
    "import math\n",
    "import matplotlib.pyplot as plt"
   ]
  },
  {
   "cell_type": "code",
   "execution_count": 2,
   "metadata": {
    "colab": {},
    "colab_type": "code",
    "id": "XU6O3AyiEDiU"
   },
   "outputs": [],
   "source": [
    "simple_bandits = [0.3, 0.4, 0.5, 0.6, 0.7] #[Komiyama, Honda, Nakagawa, 2016, arXiv 1506.00779]\n",
    "classical_bandits = [0.1, 0.3, 0.5, 0.7, 0.9]\n",
    "hard_bandits = [0.005, 0.01, 0.015, 0.84, 0.85]"
   ]
  },
  {
   "cell_type": "code",
   "execution_count": 3,
   "metadata": {
    "colab": {},
    "colab_type": "code",
    "id": "0SkCdE-1EDiY"
   },
   "outputs": [],
   "source": [
    "class Rewarder:\n",
    "    def __init__(self, probabs):\n",
    "        self.probabs = probabs\n",
    "        self.n = len(probabs)\n",
    "    \n",
    "    def get(self, i):\n",
    "        if i >= self.n:\n",
    "            raise IndexError\n",
    "        if np.random.rand() < self.probabs[i]:\n",
    "            return 1\n",
    "        else:\n",
    "            return 0"
   ]
  },
  {
   "cell_type": "markdown",
   "metadata": {
    "colab_type": "text",
    "id": "_noNjoo9EDic"
   },
   "source": [
    "# Задание: реализовать и сравнить UCB и Thompson Sampling (reward, regret) на симуляциях с 3 наборами параметров (simple, classical, hard)"
   ]
  },
  {
   "cell_type": "code",
   "execution_count": 4,
   "metadata": {
    "colab": {},
    "colab_type": "code",
    "id": "MdEd0B9QPR3H"
   },
   "outputs": [],
   "source": [
    "class BanditsSolver:\n",
    "    def __init__(self, n, rewarder):\n",
    "        self.rewarder = rewarder\n",
    "        self.n = n\n",
    "        self.time = 0\n",
    "        self.total_reward = [0. for _ in range(n)]\n",
    "        self.selections_number = [0 for _ in range(n)]\n",
    "\n",
    "    def pull(self, times=1):\n",
    "        raise NotImplementedError\n"
   ]
  },
  {
   "cell_type": "code",
   "execution_count": 5,
   "metadata": {
    "colab": {},
    "colab_type": "code",
    "id": "9WZEXYOQRJh_"
   },
   "outputs": [],
   "source": [
    "class UCB(BanditsSolver):\n",
    "    def __init__(self, n, rewarder):\n",
    "        super().__init__(n, rewarder)\n",
    "\n",
    "    def pull(self, times=1):\n",
    "        selected = []\n",
    "        total_reward = 0\n",
    "        for t in range(times):\n",
    "            chosen = -1\n",
    "            ucb = 0.\n",
    "            for h in range(self.n):\n",
    "                h_ucb = 1e200\n",
    "                if self.selections_number[h] > 0:\n",
    "                    h_ucb = self.total_reward[h] / self.selections_number[h] # average reward\n",
    "                    h_ucb += math.sqrt(3/2 * math.log(self.time + 1) / self.selections_number[h]) # confidence interval\n",
    "                if h_ucb > ucb:\n",
    "                    ucb = h_ucb\n",
    "                    chosen = h\n",
    "                    \n",
    "            selected.append(chosen)\n",
    "            self.selections_number[chosen] += 1\n",
    "            reward = rewarder.get(chosen)\n",
    "            self.total_reward[chosen] += reward\n",
    "            total_reward += reward\n",
    "            self.time += 1\n",
    "        return selected, total_reward"
   ]
  },
  {
   "cell_type": "code",
   "execution_count": 6,
   "metadata": {
    "colab": {},
    "colab_type": "code",
    "id": "MAngy4QAcSUc"
   },
   "outputs": [],
   "source": [
    "class Thompson(BanditsSolver):\n",
    "    def __init__(self, n, rewarder):\n",
    "        super().__init__(n, rewarder)\n",
    "        self.alphas = [1 for _ in range(n)]\n",
    "        self.betas = [1 for _ in range(n)]\n",
    "\n",
    "    def pull(self, times=1):\n",
    "        selected = []\n",
    "        total_reward = 0\n",
    "        for t in range(times):\n",
    "            e = [np.random.beta(self.alphas[i], self.betas[i]) for i in range(self.n)]\n",
    "            chosen = np.argmax(e)\n",
    "\n",
    "            selected.append(chosen)\n",
    "            self.selections_number[chosen] += 1\n",
    "            reward = rewarder.get(chosen)\n",
    "            self.alphas[chosen] += reward\n",
    "            self.betas[chosen] += (1 - reward)\n",
    "            self.total_reward[chosen] += reward\n",
    "            total_reward += reward\n",
    "            self.time += 1\n",
    "        return selected, total_reward"
   ]
  },
  {
   "cell_type": "code",
   "execution_count": 7,
   "metadata": {
    "colab": {},
    "colab_type": "code",
    "id": "9cpEqCYOZAZ3"
   },
   "outputs": [],
   "source": [
    "models = {'T': Thompson, 'U': UCB}\n",
    "RUNS = 1000 # steps\n",
    "\n",
    "def run_model(rewarder, runs, model='T'):\n",
    "    model = models[model](rewarder.n, rewarder)\n",
    "    selections, total_reward = model.pull(RUNS)\n",
    "    return model, selections, total_reward\n",
    "\n",
    "def draw_chosen_plot(choices, n):\n",
    "    plt.hist(choices, np.arange(0, n + 1))\n",
    "    plt.title('Histogram of arms selections')\n",
    "    plt.xlabel('Arms')\n",
    "    plt.ylabel('Number of times each arm was selected')\n",
    "    plt.show()\n",
    "\n",
    "def print_results(total_reward, rewarder, arms, selections, wins):\n",
    "    print(\"Total number of trials\", RUNS)\n",
    "    print(\"Total number of wins\", total_reward)\n",
    "    print(\"Winning rate\", total_reward / RUNS)\n",
    "    print(\"Winning probabilities:\", rewarder.probabs)\n",
    "    print(\"Number of selections:\", selections)\n",
    "    print(\"Number of wins:\", list(map(int, wins)))\n",
    "    draw_chosen_plot(arms, rewarder.n)"
   ]
  },
  {
   "cell_type": "markdown",
   "metadata": {
    "colab_type": "text",
    "id": "ahLZaw3oU08e"
   },
   "source": [
    "# SIMPLE"
   ]
  },
  {
   "cell_type": "code",
   "execution_count": 8,
   "metadata": {
    "colab": {},
    "colab_type": "code",
    "id": "cENkE4LXUz06"
   },
   "outputs": [],
   "source": [
    "rewarder = Rewarder(simple_bandits)"
   ]
  },
  {
   "cell_type": "markdown",
   "metadata": {
    "colab_type": "text",
    "id": "xFbUVGfeaxW8"
   },
   "source": [
    "UCB"
   ]
  },
  {
   "cell_type": "code",
   "execution_count": 9,
   "metadata": {
    "colab": {},
    "colab_type": "code",
    "id": "JOiEILX-Zv4s"
   },
   "outputs": [],
   "source": [
    "ucb, ucb_arms, ucb_total_reward = run_model(rewarder, RUNS, 'U')\n",
    "ucb_selections = ucb.selections_number  # Number of times we tried each bandit\n",
    "ucb_wins = ucb.total_reward  # Number of wins for each bandit"
   ]
  },
  {
   "cell_type": "code",
   "execution_count": 10,
   "metadata": {
    "colab": {
     "base_uri": "https://localhost:8080/",
     "height": 396
    },
    "colab_type": "code",
    "executionInfo": {
     "elapsed": 2005,
     "status": "ok",
     "timestamp": 1577034850948,
     "user": {
      "displayName": "Katya Kos",
      "photoUrl": "https://lh3.googleusercontent.com/a-/AAuE7mAEbDPlTEhfxpe_Le-e1fhcSaCH4uzJ2QfB31HgZQ=s64",
      "userId": "02875698777289388707"
     },
     "user_tz": -180
    },
    "id": "ICA45WAOlLeK",
    "outputId": "5597bbd5-f82d-4a18-dd40-a09eb07397d2"
   },
   "outputs": [
    {
     "name": "stdout",
     "output_type": "stream",
     "text": [
      "Total number of trials 1000\n",
      "Total number of wins 636\n",
      "Winning rate 0.636\n",
      "Winning probabilities: [0.3, 0.4, 0.5, 0.6, 0.7]\n",
      "Number of selections: [24, 94, 109, 284, 489]\n",
      "Number of wins: [4, 48, 58, 185, 341]\n"
     ]
    },
    {
     "data": {
      "image/png": "[encoded data removed]",
      "text/plain": [
       "<Figure size 432x288 with 1 Axes>"
      ]
     },
     "metadata": {
      "needs_background": "light"
     },
     "output_type": "display_data"
    }
   ],
   "source": [
    "print_results(ucb_total_reward, rewarder, ucb_arms, ucb_selections, ucb_wins)"
   ]
  },
  {
   "cell_type": "markdown",
   "metadata": {
    "colab_type": "text",
    "id": "Ep4JySK2lt2C"
   },
   "source": [
    "Thompson"
   ]
  },
  {
   "cell_type": "code",
   "execution_count": 11,
   "metadata": {
    "colab": {},
    "colab_type": "code",
    "id": "AWPTMLXVlt2G"
   },
   "outputs": [],
   "source": [
    "thomp, thomp_arms, thomp_total_reward = run_model(rewarder, RUNS, 'T')\n",
    "thomp_selections = thomp.selections_number  # Number of times we tried each bandit\n",
    "thomp_wins = thomp.total_reward  # Number of wins for each bandit"
   ]
  },
  {
   "cell_type": "code",
   "execution_count": 18,
   "metadata": {
    "colab": {
     "base_uri": "https://localhost:8080/",
     "height": 396
    },
    "colab_type": "code",
    "executionInfo": {
     "elapsed": 1428,
     "status": "ok",
     "timestamp": 1577034868745,
     "user": {
      "displayName": "Katya Kos",
      "photoUrl": "https://lh3.googleusercontent.com/a-/AAuE7mAEbDPlTEhfxpe_Le-e1fhcSaCH4uzJ2QfB31HgZQ=s64",
      "userId": "02875698777289388707"
     },
     "user_tz": -180
    },
    "id": "itWFG2w_lt2P",
    "outputId": "4c877466-439e-417b-fb49-c4a9a13a0757"
   },
   "outputs": [
    {
     "name": "stdout",
     "output_type": "stream",
     "text": [
      "Total number of trials 1000\n",
      "Total number of wins 680\n",
      "Winning rate 0.68\n",
      "Winning probabilities: [0.3, 0.4, 0.5, 0.6, 0.7]\n",
      "Number of selections: [13, 9, 16, 18, 944]\n",
      "Number of wins: [4, 3, 5, 8, 660]\n"
     ]
    },
    {
     "data": {
      "image/png": "[encoded data removed]",
      "text/plain": [
       "<Figure size 432x288 with 1 Axes>"
      ]
     },
     "metadata": {
      "tags": []
     },
     "output_type": "display_data"
    }
   ],
   "source": [
    "print_results(thomp_total_reward, rewarder, thomp_arms, thomp_selections, thomp_wins)"
   ]
  },
  {
   "cell_type": "markdown",
   "metadata": {
    "colab_type": "text",
    "id": "DdxyMX4cYozM"
   },
   "source": [
    "# CLASSICAL"
   ]
  },
  {
   "cell_type": "code",
   "execution_count": 0,
   "metadata": {
    "colab": {},
    "colab_type": "code",
    "id": "-kNgL5Q6avWf"
   },
   "outputs": [],
   "source": [
    "rewarder = Rewarder(classical_bandits)"
   ]
  },
  {
   "cell_type": "markdown",
   "metadata": {
    "colab_type": "text",
    "id": "1pPyurUgazUt"
   },
   "source": [
    "UCB"
   ]
  },
  {
   "cell_type": "code",
   "execution_count": 0,
   "metadata": {
    "colab": {},
    "colab_type": "code",
    "id": "8jyvcmNcliBk"
   },
   "outputs": [],
   "source": [
    "ucb, ucb_arms, ucb_total_reward = run_model(rewarder, RUNS, 'U')\n",
    "ucb_selections = ucb.selections_number  # Number of times we tried each bandit\n",
    "ucb_wins = ucb.total_reward  # Number of wins for each bandit"
   ]
  },
  {
   "cell_type": "code",
   "execution_count": 27,
   "metadata": {
    "colab": {
     "base_uri": "https://localhost:8080/",
     "height": 396
    },
    "colab_type": "code",
    "executionInfo": {
     "elapsed": 1473,
     "status": "ok",
     "timestamp": 1577034949234,
     "user": {
      "displayName": "Katya Kos",
      "photoUrl": "https://lh3.googleusercontent.com/a-/AAuE7mAEbDPlTEhfxpe_Le-e1fhcSaCH4uzJ2QfB31HgZQ=s64",
      "userId": "02875698777289388707"
     },
     "user_tz": -180
    },
    "id": "ehH08J84liBr",
    "outputId": "bb41f94b-8099-4f30-8e1e-4b367b6317a8"
   },
   "outputs": [
    {
     "name": "stdout",
     "output_type": "stream",
     "text": [
      "Total number of trials 1000\n",
      "Total number of wins 856\n",
      "Winning rate 0.856\n",
      "Winning probabilities: [0.1, 0.3, 0.5, 0.7, 0.9]\n",
      "Number of selections: [12, 20, 40, 88, 840]\n",
      "Number of wins: [1, 6, 20, 60, 769]\n"
     ]
    },
    {
     "data": {
      "image/png": "[encoded data removed]",
      "text/plain": [
       "<Figure size 432x288 with 1 Axes>"
      ]
     },
     "metadata": {
      "tags": []
     },
     "output_type": "display_data"
    }
   ],
   "source": [
    "print_results(ucb_total_reward, rewarder, ucb_arms, ucb_selections, ucb_wins)"
   ]
  },
  {
   "cell_type": "markdown",
   "metadata": {
    "colab_type": "text",
    "id": "oHx46CxLm-vA"
   },
   "source": [
    "Thompson"
   ]
  },
  {
   "cell_type": "code",
   "execution_count": 0,
   "metadata": {
    "colab": {},
    "colab_type": "code",
    "id": "2uG7Wmjwm-vH"
   },
   "outputs": [],
   "source": [
    "thomp, thomp_arms, thomp_total_reward = run_model(rewarder, RUNS, 'T')\n",
    "thomp_selections = thomp.selections_number  # Number of times we tried each bandit\n",
    "thomp_wins = thomp.total_reward  # Number of wins for each bandit"
   ]
  },
  {
   "cell_type": "code",
   "execution_count": 35,
   "metadata": {
    "colab": {
     "base_uri": "https://localhost:8080/",
     "height": 396
    },
    "colab_type": "code",
    "executionInfo": {
     "elapsed": 1192,
     "status": "ok",
     "timestamp": 1577035010441,
     "user": {
      "displayName": "Katya Kos",
      "photoUrl": "https://lh3.googleusercontent.com/a-/AAuE7mAEbDPlTEhfxpe_Le-e1fhcSaCH4uzJ2QfB31HgZQ=s64",
      "userId": "02875698777289388707"
     },
     "user_tz": -180
    },
    "id": "kHfsLHttm-vO",
    "outputId": "fddb427a-a3df-4027-ad31-564960ab0d10"
   },
   "outputs": [
    {
     "name": "stdout",
     "output_type": "stream",
     "text": [
      "Total number of trials 1000\n",
      "Total number of wins 908\n",
      "Winning rate 0.908\n",
      "Winning probabilities: [0.1, 0.3, 0.5, 0.7, 0.9]\n",
      "Number of selections: [3, 3, 8, 34, 952]\n",
      "Number of wins: [0, 0, 5, 24, 879]\n"
     ]
    },
    {
     "data": {
      "image/png": "[encoded data removed]",
      "text/plain": [
       "<Figure size 432x288 with 1 Axes>"
      ]
     },
     "metadata": {
      "tags": []
     },
     "output_type": "display_data"
    }
   ],
   "source": [
    "print_results(thomp_total_reward, rewarder, thomp_arms, thomp_selections, thomp_wins)"
   ]
  },
  {
   "cell_type": "markdown",
   "metadata": {
    "colab_type": "text",
    "id": "VbtHbScZb5vv"
   },
   "source": [
    "# HARD"
   ]
  },
  {
   "cell_type": "code",
   "execution_count": 0,
   "metadata": {
    "colab": {},
    "colab_type": "code",
    "id": "XgQFhZ7Lb5vz"
   },
   "outputs": [],
   "source": [
    "rewarder = Rewarder(hard_bandits)"
   ]
  },
  {
   "cell_type": "markdown",
   "metadata": {
    "colab_type": "text",
    "id": "77kHalnzb5v8"
   },
   "source": [
    "UCB"
   ]
  },
  {
   "cell_type": "code",
   "execution_count": 0,
   "metadata": {
    "colab": {},
    "colab_type": "code",
    "id": "P2KacJMOlo2t"
   },
   "outputs": [],
   "source": [
    "ucb, ucb_arms, ucb_total_reward = run_model(rewarder, RUNS, 'U')\n",
    "ucb_selections = ucb.selections_number  # Number of times we tried each bandit\n",
    "ucb_wins = ucb.total_reward  # Number of wins for each bandit"
   ]
  },
  {
   "cell_type": "code",
   "execution_count": 40,
   "metadata": {
    "colab": {
     "base_uri": "https://localhost:8080/",
     "height": 396
    },
    "colab_type": "code",
    "executionInfo": {
     "elapsed": 734,
     "status": "ok",
     "timestamp": 1577035032490,
     "user": {
      "displayName": "Katya Kos",
      "photoUrl": "https://lh3.googleusercontent.com/a-/AAuE7mAEbDPlTEhfxpe_Le-e1fhcSaCH4uzJ2QfB31HgZQ=s64",
      "userId": "02875698777289388707"
     },
     "user_tz": -180
    },
    "id": "-8zMmAaOlo23",
    "outputId": "e70c6a77-e6bf-429a-b182-86a51d1752ce"
   },
   "outputs": [
    {
     "name": "stdout",
     "output_type": "stream",
     "text": [
      "Total number of trials 1000\n",
      "Total number of wins 819\n",
      "Winning rate 0.819\n",
      "Winning probabilities: [0.005, 0.01, 0.015, 0.84, 0.85]\n",
      "Number of selections: [13, 11, 11, 415, 550]\n",
      "Number of wins: [1, 0, 0, 348, 470]\n"
     ]
    },
    {
     "data": {
      "image/png": "[encoded data removed]",
      "text/plain": [
       "<Figure size 432x288 with 1 Axes>"
      ]
     },
     "metadata": {
      "tags": []
     },
     "output_type": "display_data"
    }
   ],
   "source": [
    "print_results(ucb_total_reward, rewarder, ucb_arms, ucb_selections, ucb_wins)"
   ]
  },
  {
   "cell_type": "markdown",
   "metadata": {
    "colab_type": "text",
    "id": "hfeprlYCnKt2"
   },
   "source": [
    "Thompson"
   ]
  },
  {
   "cell_type": "code",
   "execution_count": 0,
   "metadata": {
    "colab": {},
    "colab_type": "code",
    "id": "OgN6-HTDnKt5"
   },
   "outputs": [],
   "source": [
    "thomp, thomp_arms, thomp_total_reward = run_model(rewarder, RUNS, 'T')\n",
    "thomp_selections = thomp.selections_number  # Number of times we tried each bandit\n",
    "thomp_wins = thomp.total_reward  # Number of wins for each bandit"
   ]
  },
  {
   "cell_type": "code",
   "execution_count": 44,
   "metadata": {
    "colab": {
     "base_uri": "https://localhost:8080/",
     "height": 396
    },
    "colab_type": "code",
    "executionInfo": {
     "elapsed": 672,
     "status": "ok",
     "timestamp": 1577035054011,
     "user": {
      "displayName": "Katya Kos",
      "photoUrl": "https://lh3.googleusercontent.com/a-/AAuE7mAEbDPlTEhfxpe_Le-e1fhcSaCH4uzJ2QfB31HgZQ=s64",
      "userId": "02875698777289388707"
     },
     "user_tz": -180
    },
    "id": "2RQHr-XKnKuE",
    "outputId": "9179c2a2-b263-43a0-9557-c0f38be9fcd3"
   },
   "outputs": [
    {
     "name": "stdout",
     "output_type": "stream",
     "text": [
      "Total number of trials 1000\n",
      "Total number of wins 863\n",
      "Winning rate 0.863\n",
      "Winning probabilities: [0.005, 0.01, 0.015, 0.84, 0.85]\n",
      "Number of selections: [3, 3, 3, 27, 964]\n",
      "Number of wins: [0, 0, 0, 19, 844]\n"
     ]
    },
    {
     "data": {
      "image/png": "[encoded data removed]",
      "text/plain": [
       "<Figure size 432x288 with 1 Axes>"
      ]
     },
     "metadata": {
      "tags": []
     },
     "output_type": "display_data"
    }
   ],
   "source": [
    "print_results(thomp_total_reward, rewarder, thomp_arms, thomp_selections, thomp_wins)"
   ]
  }
 ],
 "metadata": {
  "colab": {
   "collapsed_sections": [],
   "name": "online.ipynb",
   "provenance": []
  },
  "kernelspec": {
   "display_name": "Python 3",
   "language": "python",
   "name": "python3"
  },
  "language_info": {
   "codemirror_mode": {
    "name": "ipython",
    "version": 3
   },
   "file_extension": ".py",
   "mimetype": "text/x-python",
   "name": "python",
   "nbconvert_exporter": "python",
   "pygments_lexer": "ipython3",
   "version": "3.7.4"
  }
 },
 "nbformat": 4,
 "nbformat_minor": 1
}
